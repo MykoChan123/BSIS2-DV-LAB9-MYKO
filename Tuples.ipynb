{
  "nbformat": 4,
  "nbformat_minor": 0,
  "metadata": {
    "colab": {
      "provenance": [],
      "authorship_tag": "ABX9TyPtfjwBSpPdvSSW6hY1yt+M",
      "include_colab_link": true
    },
    "kernelspec": {
      "name": "python3",
      "display_name": "Python 3"
    },
    "language_info": {
      "name": "python"
    }
  },
  "cells": [
    {
      "cell_type": "markdown",
      "metadata": {
        "id": "view-in-github",
        "colab_type": "text"
      },
      "source": [
        "<a href=\"https://colab.research.google.com/github/MykoChan123/BSIS2-DV-LAB9-MYKO/blob/main/Tuples.ipynb\" target=\"_parent\"><img src=\"https://colab.research.google.com/assets/colab-badge.svg\" alt=\"Open In Colab\"/></a>"
      ]
    },
    {
      "cell_type": "markdown",
      "source": [
        "Tuples 1"
      ],
      "metadata": {
        "id": "Q21xqgS_59qb"
      }
    },
    {
      "cell_type": "code",
      "execution_count": 6,
      "metadata": {
        "colab": {
          "base_uri": "https://localhost:8080/"
        },
        "id": "aM7bAeuw32Mx",
        "outputId": "1f86a2a5-8bcb-4318-d61a-12360dd23647"
      },
      "outputs": [
        {
          "output_type": "stream",
          "name": "stdout",
          "text": [
            "(1, 22, 8, 10)\n",
            "(1, 22, 8, 10)\n"
          ]
        }
      ],
      "source": [
        "z = (1, 22, 8, 10)\n",
        "print(z)\n",
        "z = 1, 22, 8, 10\n",
        "print(z)"
      ]
    },
    {
      "cell_type": "markdown",
      "source": [
        "Tuples 2"
      ],
      "metadata": {
        "id": "yUsY3Cpy6h4C"
      }
    },
    {
      "cell_type": "code",
      "source": [
        "tup1 = ('Myko',)\n",
        "tup2 = 'Myko', \n",
        "notTuple = ('Myko')\n",
        "print(type(notTuple) )"
      ],
      "metadata": {
        "colab": {
          "base_uri": "https://localhost:8080/"
        },
        "id": "HrceoaRp6B26",
        "outputId": "3284eb3a-9f47-4ce5-8518-4829185d1cb3"
      },
      "execution_count": 7,
      "outputs": [
        {
          "output_type": "stream",
          "name": "stdout",
          "text": [
            "<class 'str'>\n"
          ]
        }
      ]
    },
    {
      "cell_type": "markdown",
      "source": [
        "Tuples 3"
      ],
      "metadata": {
        "id": "yfLlTsfI620M"
      }
    },
    {
      "cell_type": "code",
      "source": [
        "\n",
        "\n",
        "z = (\"andrewtate\", 22, 8, 10)\n",
        "print(z[0])"
      ],
      "metadata": {
        "colab": {
          "base_uri": "https://localhost:8080/"
        },
        "id": "nqzfdjEK6m5F",
        "outputId": "3c678133-b180-4481-fada-bdb9fe294247"
      },
      "execution_count": 8,
      "outputs": [
        {
          "output_type": "stream",
          "name": "stdout",
          "text": [
            "andrewtate\n"
          ]
        }
      ]
    },
    {
      "cell_type": "markdown",
      "source": [
        "Tuples 4"
      ],
      "metadata": {
        "id": "VI6X0KO267LH"
      }
    },
    {
      "cell_type": "code",
      "source": [
        "z = (1, 22, 8, \"Andrewtate\")\n",
        "print(z[-1])\n",
        "     "
      ],
      "metadata": {
        "colab": {
          "base_uri": "https://localhost:8080/"
        },
        "id": "9YHZ53Pk68gb",
        "outputId": "607a238d-602d-401b-9a40-29b4fd160057"
      },
      "execution_count": 9,
      "outputs": [
        {
          "output_type": "stream",
          "name": "stdout",
          "text": [
            "Andrewtate\n"
          ]
        }
      ]
    },
    {
      "cell_type": "markdown",
      "source": [
        "Tuples 5"
      ],
      "metadata": {
        "id": "QuqtcsBe7Ir_"
      }
    },
    {
      "cell_type": "code",
      "source": [
        "\n",
        "z = (\"Andrewtate\", \"Myko\", 8, 10)\n",
        "print(z[0:2])\n"
      ],
      "metadata": {
        "colab": {
          "base_uri": "https://localhost:8080/"
        },
        "id": "WDdr-2Yq7KQJ",
        "outputId": "5fcfe9ba-9eb2-4832-c194-76537699a50b"
      },
      "execution_count": 11,
      "outputs": [
        {
          "output_type": "stream",
          "name": "stdout",
          "text": [
            "('Andrewtate', 'Myko')\n"
          ]
        }
      ]
    },
    {
      "cell_type": "markdown",
      "source": [
        "Tuples 6"
      ],
      "metadata": {
        "id": "Oeg5u0LE7agK"
      }
    },
    {
      "cell_type": "code",
      "source": [
        "\n",
        "z = (\"OO\", \"Pogi\", \"Myko\", 10)\n",
        "print(z[:3])\n"
      ],
      "metadata": {
        "colab": {
          "base_uri": "https://localhost:8080/"
        },
        "id": "RLEIggnb7cG0",
        "outputId": "e27863e7-e602-4b1c-c63c-b5e9eb972f08"
      },
      "execution_count": 12,
      "outputs": [
        {
          "output_type": "stream",
          "name": "stdout",
          "text": [
            "('OO', 'Pogi', 'Myko')\n"
          ]
        }
      ]
    },
    {
      "cell_type": "markdown",
      "source": [
        "Tuples 7"
      ],
      "metadata": {
        "id": "RstvvyEX7r3y"
      }
    },
    {
      "cell_type": "code",
      "source": [
        "z = (1, 22, \"Myko\", \"myko\")\n",
        "print(z[-4:-1])\n"
      ],
      "metadata": {
        "colab": {
          "base_uri": "https://localhost:8080/"
        },
        "id": "ymr6RPtM7tTC",
        "outputId": "e2b0891b-33ae-497b-ed02-8f9d31f326d4"
      },
      "execution_count": 14,
      "outputs": [
        {
          "output_type": "stream",
          "name": "stdout",
          "text": [
            "(1, 22, 'Myko')\n"
          ]
        }
      ]
    },
    {
      "cell_type": "markdown",
      "source": [
        "Tuples 8"
      ],
      "metadata": {
        "id": "Vmpf-Jiv7_8t"
      }
    },
    {
      "cell_type": "code",
      "source": [
        "tup1 = ('Python', 'SQL')\n",
        "\n",
        "tup2 = ('R',)\n",
        "\n",
        "new_tuple = tup1 + tup2;\n",
        "print(new_tuple)"
      ],
      "metadata": {
        "colab": {
          "base_uri": "https://localhost:8080/"
        },
        "id": "BfTMh8sR8Daq",
        "outputId": "303053b9-cfcf-44fe-c8ff-c3d925741561"
      },
      "execution_count": 15,
      "outputs": [
        {
          "output_type": "stream",
          "name": "stdout",
          "text": [
            "('Python', 'SQL', 'R')\n"
          ]
        }
      ]
    },
    {
      "cell_type": "markdown",
      "source": [
        "Tuples 9"
      ],
      "metadata": {
        "id": "549HGwxG8t0r"
      }
    },
    {
      "cell_type": "code",
      "source": [
        "a, b, c, d = (1, 22, 8, 10)\n",
        "print(a)\n",
        "print(b)\n",
        "print(c)\n",
        "print(d)"
      ],
      "metadata": {
        "colab": {
          "base_uri": "https://localhost:8080/"
        },
        "id": "RuA1fq2l8vWn",
        "outputId": "35da5be5-ab74-4fc9-a805-916dfc1146cc"
      },
      "execution_count": 16,
      "outputs": [
        {
          "output_type": "stream",
          "name": "stdout",
          "text": [
            "1\n",
            "22\n",
            "8\n",
            "10\n"
          ]
        }
      ]
    },
    {
      "cell_type": "markdown",
      "source": [
        "Tuples 11"
      ],
      "metadata": {
        "id": "YbiYyFE09QKr"
      }
    },
    {
      "cell_type": "code",
      "source": [
        "Guns = ('Shotgun', 'Granade', 'Smoke', 'GLOCK 20', 'AK-47')\n",
        "for index, Guns in enumerate(Guns):\n",
        " print(index,Guns)"
      ],
      "metadata": {
        "colab": {
          "base_uri": "https://localhost:8080/"
        },
        "id": "lXl6xGfp9Rxg",
        "outputId": "206ca303-3b1c-436f-9039-83991cc2b13a"
      },
      "execution_count": 17,
      "outputs": [
        {
          "output_type": "stream",
          "name": "stdout",
          "text": [
            "0 Shotgun\n",
            "1 Granade\n",
            "2 Smoke\n",
            "3 GLOCK 20\n",
            "4 AK-47\n"
          ]
        }
      ]
    },
    {
      "cell_type": "markdown",
      "source": [
        "Tuples 13"
      ],
      "metadata": {
        "id": "_QYX-gVO9h0A"
      }
    },
    {
      "cell_type": "code",
      "source": [
        "animals = (\"Ivan\", \"Mat\", \"Rannel\")\n",
        "print(animals.index('Mat'))"
      ],
      "metadata": {
        "colab": {
          "base_uri": "https://localhost:8080/"
        },
        "id": "OJXeQ_429pRP",
        "outputId": "3cd5597d-fd78-4dfe-9a2d-838bdba816d6"
      },
      "execution_count": 21,
      "outputs": [
        {
          "output_type": "stream",
          "name": "stdout",
          "text": [
            "1\n"
          ]
        }
      ]
    },
    {
      "cell_type": "markdown",
      "source": [
        "Tuples 14"
      ],
      "metadata": {
        "id": "s9Zvo61y-qep"
      }
    },
    {
      "cell_type": "code",
      "source": [
        "import timeit \n",
        "print(timeit.timeit('x=(1,2,3,4,5,6,7,8,9,10,11,12)', number=1000))\n",
        "print(timeit.timeit('x=[1,2,3,4,5,6,7,8,9,10,11,12]', number=1))"
      ],
      "metadata": {
        "colab": {
          "base_uri": "https://localhost:8080/"
        },
        "id": "cGuLi9AZ-sHI",
        "outputId": "521e172c-3b31-450f-9719-3efda2aa5303"
      },
      "execution_count": 24,
      "outputs": [
        {
          "output_type": "stream",
          "name": "stdout",
          "text": [
            "2.4295000002894085e-05\n",
            "9.650000265537528e-07\n"
          ]
        }
      ]
    }
  ]
}